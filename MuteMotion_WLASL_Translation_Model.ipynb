{
  "metadata": {
    "kernelspec": {
      "language": "python",
      "display_name": "Python 3",
      "name": "python3"
    },
    "language_info": {
      "name": "python",
      "version": "3.10.12",
      "mimetype": "text/x-python",
      "codemirror_mode": {
        "name": "ipython",
        "version": 3
      },
      "pygments_lexer": "ipython3",
      "nbconvert_exporter": "python",
      "file_extension": ".py"
    },
    "kaggle": {
      "accelerator": "nvidiaTeslaT4",
      "dataSources": [
        {
          "sourceId": 2632847,
          "sourceType": "datasetVersion",
          "datasetId": 1589971
        },
        {
          "sourceId": 4747505,
          "sourceType": "datasetVersion",
          "datasetId": 2747345
        },
        {
          "sourceId": 7195461,
          "sourceType": "datasetVersion",
          "datasetId": 4069519
        }
      ],
      "isInternetEnabled": true,
      "language": "python",
      "sourceType": "notebook",
      "isGpuEnabled": true
    },
    "colab": {
      "name": "MuteMotion: WLASL Translation Model",
      "provenance": [],
      "include_colab_link": true
    }
  },
  "nbformat_minor": 0,
  "nbformat": 4,
  "cells": [
    {
      "cell_type": "markdown",
      "metadata": {
        "id": "view-in-github",
        "colab_type": "text"
      },
      "source": [
        "<a href=\"https://colab.research.google.com/github/R2Vve/AI-Expert-Roadmap/blob/main/MuteMotion_WLASL_Translation_Model.ipynb\" target=\"_parent\"><img src=\"https://colab.research.google.com/assets/colab-badge.svg\" alt=\"Open In Colab\"/></a>"
      ]
    },
    {
      "source": [
        "# IMPORTANT: RUN THIS CELL IN ORDER TO IMPORT YOUR KAGGLE DATA SOURCES,\n",
        "# THEN FEEL FREE TO DELETE THIS CELL.\n",
        "# NOTE: THIS NOTEBOOK ENVIRONMENT DIFFERS FROM KAGGLE'S PYTHON\n",
        "# ENVIRONMENT SO THERE MAY BE MISSING LIBRARIES USED BY YOUR\n",
        "# NOTEBOOK.\n",
        "import kagglehub\n",
        "risangbaskoro_wlasl_processed_path = kagglehub.dataset_download('risangbaskoro/wlasl-processed')\n",
        "sttaseen_wlasl2000_resized_path = kagglehub.dataset_download('sttaseen/wlasl2000-resized')\n",
        "abd0kamel_mutemotion_output_path = kagglehub.dataset_download('abd0kamel/mutemotion-output')\n",
        "\n",
        "print('Data source import complete.')\n"
      ],
      "metadata": {
        "id": "pIqVpg8R6Mhn"
      },
      "cell_type": "code",
      "outputs": [],
      "execution_count": null
    },
    {
      "cell_type": "markdown",
      "source": [
        "# **Introduction**\n",
        "\n",
        "<h3> This notebook aims to use MediaPipe landmarks detection as the starting point\n",
        "    \n",
        "<h3> for building an American Sign Language Translation Model\n",
        "            \n",
        "**<h3> Sections:**\n",
        "* [Importing Libraries](#Importing_Libraries)\n",
        "* [Data Preparation](#Data_Preparation)\n",
        "* [MediaPipe Implementation](#MediaPipe_Implementation)\n",
        "* [Visualizing Landmarks](#Visualizing_Landmarks)\n",
        "* [Data Encoding](#Data_Encoding)\n",
        "* [Label Filtering](#Label_Filtering)\n",
        "* [Data Loading](#Data_Loading)\n",
        "* [Data Augmentation](#Data_Augmentation)\n",
        "* [Data Preprocessing](#Data_Preprocessing)\n",
        "* [Label Encoding](#Label_Encoding)\n",
        "* [Models](#Models)\n",
        "    \n",
        "<h4> If you found this notebook helpful, an upvote would be appreciated!"
      ],
      "metadata": {
        "id": "F5VzXsO76Mhp"
      }
    },
    {
      "cell_type": "markdown",
      "source": [
        "---"
      ],
      "metadata": {
        "id": "f3oJC11s6Mhr"
      }
    },
    {
      "cell_type": "markdown",
      "source": [
        "<div id=\"Importing_Libraries\">\n",
        "    \n",
        "# **Importing Libraries**"
      ],
      "metadata": {
        "id": "pm2F7ryi6Mhs"
      }
    },
    {
      "cell_type": "code",
      "source": [
        "!pip install -q mediapipe==0.10.7"
      ],
      "metadata": {
        "scrolled": true,
        "execution": {
          "iopub.status.busy": "2023-12-13T23:19:10.626597Z",
          "iopub.execute_input": "2023-12-13T23:19:10.627014Z",
          "iopub.status.idle": "2023-12-13T23:19:26.446168Z",
          "shell.execute_reply.started": "2023-12-13T23:19:10.626982Z",
          "shell.execute_reply": "2023-12-13T23:19:26.44515Z"
        },
        "trusted": true,
        "id": "8MUhvUrY6Mhs"
      },
      "execution_count": null,
      "outputs": []
    },
    {
      "cell_type": "code",
      "source": [
        "import os\n",
        "import gc\n",
        "import cv2\n",
        "import json\n",
        "import time\n",
        "import shutil\n",
        "import numpy as np\n",
        "from tqdm import tqdm\n",
        "import mediapipe as mp\n",
        "import tensorflow as tf\n",
        "import matplotlib.pyplot as plt\n",
        "from sklearn.preprocessing import LabelEncoder\n",
        "from concurrent.futures import ThreadPoolExecutor\n",
        "from IPython.display import clear_output, FileLink"
      ],
      "metadata": {
        "_uuid": "8f2839f25d086af736a60e9eeb907d3b93b6e0e5",
        "_cell_guid": "b1076dfc-b9ad-4769-8c92-a6c4dae69d19",
        "execution": {
          "iopub.status.busy": "2023-12-13T23:19:26.448036Z",
          "iopub.execute_input": "2023-12-13T23:19:26.448323Z",
          "iopub.status.idle": "2023-12-13T23:19:39.996068Z",
          "shell.execute_reply.started": "2023-12-13T23:19:26.448299Z",
          "shell.execute_reply": "2023-12-13T23:19:39.995042Z"
        },
        "trusted": true,
        "id": "43V3njx16Mht"
      },
      "execution_count": null,
      "outputs": []
    },
    {
      "cell_type": "markdown",
      "source": [
        "---"
      ],
      "metadata": {
        "id": "zus6pLPh6Mhu"
      }
    },
    {
      "cell_type": "markdown",
      "source": [
        "<div id=\"Data_Preparation\">\n",
        "    \n",
        "# **Data Preparation**\n",
        "**<h2>(Done Once)**"
      ],
      "metadata": {
        "id": "dRaEqnGU6Mhu"
      }
    },
    {
      "cell_type": "markdown",
      "source": [
        "<h3> We first load the data"
      ],
      "metadata": {
        "id": "dZfiQzAI6Mhv"
      }
    },
    {
      "cell_type": "code",
      "source": [
        "with open('/kaggle/input/wlasl-processed/WLASL_v0.3.json', 'r') as json_file:\n",
        "    all_data = json.load(json_file)"
      ],
      "metadata": {
        "execution": {
          "iopub.status.busy": "2023-12-01T21:40:04.462788Z",
          "iopub.execute_input": "2023-12-01T21:40:04.463388Z",
          "iopub.status.idle": "2023-12-01T21:40:04.715599Z",
          "shell.execute_reply.started": "2023-12-01T21:40:04.463358Z",
          "shell.execute_reply": "2023-12-01T21:40:04.714639Z"
        },
        "trusted": true,
        "id": "u47FIFMW6Mhv"
      },
      "execution_count": null,
      "outputs": []
    },
    {
      "cell_type": "markdown",
      "source": [
        "<h3> Then we extract the needed information from the data\n",
        "<h4>    \n",
        "    \n",
        "* gloss : the word being expressed\n",
        "    \n",
        "* video_path : the path to the video in the datasets\n",
        "    \n",
        "* frame_start : the frame number where the word starts\n",
        "    \n",
        "* frame_end : the frame number where each word ends\n",
        "   \n",
        "* split : the type of data when modeling (train, val, test)"
      ],
      "metadata": {
        "id": "G-f5rJRD6Mhw"
      }
    },
    {
      "cell_type": "code",
      "source": [
        "video_dir = '/kaggle/input/wlasl-processed/videos'\n",
        "backup_dir = '/kaggle/input/wlasl2000-resized/wlasl-complete/videos'\n",
        "data = [] # formatted data\n",
        "\n",
        "for i in tqdm(range(len(all_data)), ncols=100):\n",
        "    gloss = all_data[i]['gloss']\n",
        "    instances = all_data[i]['instances']\n",
        "    for instance in instances:\n",
        "        video_id = instance['video_id']\n",
        "        if os.path.exists(os.path.join(video_dir, f'{video_id}.mp4')):\n",
        "            video_path = os.path.join(video_dir, f'{video_id}.mp4')\n",
        "        elif os.path.exists(os.path.join(backup_dir, f'{video_id}.mp4')):\n",
        "            video_path = os.path.join(backup_dir, f'{video_id}.mp4')\n",
        "        else:\n",
        "            continue\n",
        "\n",
        "        frame_start = instance['frame_start']\n",
        "        frame_end = instance['frame_end']\n",
        "        split = instance['split']\n",
        "        data.append({\n",
        "            'gloss': gloss,\n",
        "            'video_path': video_path,\n",
        "            'frame_start': frame_start,\n",
        "            'frame_end': frame_end,\n",
        "            'split': split\n",
        "        })"
      ],
      "metadata": {
        "execution": {
          "iopub.status.busy": "2023-12-01T21:40:04.71712Z",
          "iopub.execute_input": "2023-12-01T21:40:04.717996Z",
          "iopub.status.idle": "2023-12-01T21:41:13.368202Z",
          "shell.execute_reply.started": "2023-12-01T21:40:04.717956Z",
          "shell.execute_reply": "2023-12-01T21:41:13.367082Z"
        },
        "trusted": true,
        "id": "YGgOm3Ow6Mhw"
      },
      "execution_count": null,
      "outputs": []
    },
    {
      "cell_type": "code",
      "source": [
        "len(data)"
      ],
      "metadata": {
        "execution": {
          "iopub.status.busy": "2023-12-01T21:41:13.371024Z",
          "iopub.execute_input": "2023-12-01T21:41:13.371452Z",
          "iopub.status.idle": "2023-12-01T21:41:13.37917Z",
          "shell.execute_reply.started": "2023-12-01T21:41:13.371414Z",
          "shell.execute_reply": "2023-12-01T21:41:13.378032Z"
        },
        "trusted": true,
        "id": "GFUFxnnC6Mhx"
      },
      "execution_count": null,
      "outputs": []
    },
    {
      "cell_type": "markdown",
      "source": [
        "<h3> We then save the organized dictionary for future uses"
      ],
      "metadata": {
        "id": "y3hO1mSZ6Mhx"
      }
    },
    {
      "cell_type": "code",
      "source": [
        "with open('/kaggle/working/WLASL_parsed_data.json', 'w') as json_file:\n",
        "    json.dump(data, json_file, indent=4)\n",
        "\n",
        "FileLink(r'WLASL_parsed_data.json')"
      ],
      "metadata": {
        "execution": {
          "iopub.status.busy": "2023-12-01T21:41:13.380775Z",
          "iopub.execute_input": "2023-12-01T21:41:13.381358Z",
          "iopub.status.idle": "2023-12-01T21:41:13.607781Z",
          "shell.execute_reply.started": "2023-12-01T21:41:13.381322Z",
          "shell.execute_reply": "2023-12-01T21:41:13.60672Z"
        },
        "trusted": true,
        "id": "rtpK-NVZ6Mhy"
      },
      "execution_count": null,
      "outputs": []
    },
    {
      "cell_type": "markdown",
      "source": [
        "---"
      ],
      "metadata": {
        "id": "ZWn7sy_E6Mhy"
      }
    },
    {
      "cell_type": "markdown",
      "source": [
        "<div id=\"MediaPipe_Implementation\">\n",
        "\n",
        "# **MediaPipe Implementation**\n",
        "**<h2>(Not important when training)**"
      ],
      "metadata": {
        "id": "n5RSPXIq6Mhz"
      }
    },
    {
      "cell_type": "markdown",
      "source": [
        "<h3> We first choose the landmarks\n",
        "<h4>    \n",
        "    \n",
        "* Hands : we'll keep all **42** of them, as they are the most important part.\n",
        "    \n",
        "* Pose : **6** landmarks for the upper body excluding the face, as we have dedicated process for it.\n",
        "    \n",
        "* Face : out of the **478** landmarks, we'll choose **132**, focusing on the lips, eyes, eyebrows, and the outline of the face.\n",
        "    \n",
        "* This brings the total number of landmarks to **180**, each with coordinates (x, y, z).   "
      ],
      "metadata": {
        "id": "Gho8zIhG6Mhz"
      }
    },
    {
      "cell_type": "code",
      "source": [
        "filtered_hand = list(range(21))\n",
        "\n",
        "filtered_pose = [11, 12, 13, 14, 15, 16]\n",
        "\n",
        "filtered_face = [0, 4, 7, 8, 10, 13, 14, 17, 21, 33, 37, 39, 40, 46, 52, 53, 54, 55, 58,\n",
        "                 61, 63, 65, 66, 67, 70, 78, 80, 81, 82, 84, 87, 88, 91, 93, 95, 103, 105,\n",
        "                 107, 109, 127, 132, 133, 136, 144, 145, 146, 148, 149, 150, 152, 153, 154,\n",
        "                 155, 157, 158, 159, 160, 161, 162, 163, 172, 173, 176, 178, 181, 185, 191,\n",
        "                 234, 246, 249, 251, 263, 267, 269, 270, 276, 282, 283, 284, 285, 288, 291,\n",
        "                 293, 295, 296, 297, 300, 308, 310, 311, 312, 314, 317, 318, 321, 323, 324,\n",
        "                 332, 334, 336, 338, 356, 361, 362, 365, 373, 374, 375, 377, 378, 379, 380,\n",
        "                 381, 382, 384, 385, 386, 387, 388, 389, 390, 397, 398, 400, 402, 405, 409,\n",
        "                 415, 454, 466, 468, 473]\n",
        "\n",
        "HAND_NUM = len(filtered_hand)\n",
        "POSE_NUM = len(filtered_pose)\n",
        "FACE_NUM = len(filtered_face)"
      ],
      "metadata": {
        "execution": {
          "iopub.status.busy": "2023-12-13T20:03:08.020837Z",
          "iopub.execute_input": "2023-12-13T20:03:08.021775Z",
          "iopub.status.idle": "2023-12-13T20:03:08.033336Z",
          "shell.execute_reply.started": "2023-12-13T20:03:08.021735Z",
          "shell.execute_reply": "2023-12-13T20:03:08.031977Z"
        },
        "trusted": true,
        "id": "ZSzOAmuA6Mhz"
      },
      "execution_count": null,
      "outputs": []
    },
    {
      "cell_type": "markdown",
      "source": [
        "<h3>Extracting landmarks from a frame"
      ],
      "metadata": {
        "id": "nFw0KCWP6Mh0"
      }
    },
    {
      "cell_type": "code",
      "source": [
        "hands = mp.solutions.hands.Hands()\n",
        "pose = mp.solutions.pose.Pose()\n",
        "face_mesh = mp.solutions.face_mesh.FaceMesh(refine_landmarks=True)\n",
        "\n",
        "def get_frame_landmarks(frame):\n",
        "\n",
        "    all_landmarks = np.zeros((HAND_NUM * 2 + POSE_NUM + FACE_NUM, 3))\n",
        "\n",
        "    def get_hands(frame):\n",
        "        results_hands = hands.process(frame)\n",
        "        if results_hands.multi_hand_landmarks:\n",
        "            for i, hand_landmarks in enumerate(results_hands.multi_hand_landmarks):\n",
        "                if results_hands.multi_handedness[i].classification[0].index == 0:\n",
        "                    all_landmarks[:HAND_NUM, :] = np.array(\n",
        "                        [(lm.x, lm.y, lm.z) for lm in hand_landmarks.landmark]) # right\n",
        "                else:\n",
        "                    all_landmarks[HAND_NUM:HAND_NUM * 2, :] = np.array(\n",
        "                        [(lm.x, lm.y, lm.z) for lm in hand_landmarks.landmark]) # left\n",
        "\n",
        "    def get_pose(frame):\n",
        "        results_pose = pose.process(frame)\n",
        "        if results_pose.pose_landmarks:\n",
        "            all_landmarks[HAND_NUM * 2:HAND_NUM * 2 + POSE_NUM, :] = np.array(\n",
        "                [(lm.x, lm.y, lm.z) for lm in results_pose.pose_landmarks.landmark])[filtered_pose]\n",
        "\n",
        "    def get_face(frame):\n",
        "        results_face = face_mesh.process(frame)\n",
        "        if results_face.multi_face_landmarks:\n",
        "            all_landmarks[HAND_NUM * 2 + POSE_NUM:, :] = np.array(\n",
        "                [(lm.x, lm.y, lm.z) for lm in results_face.multi_face_landmarks[0].landmark])[filtered_face]\n",
        "\n",
        "    with ThreadPoolExecutor(max_workers=3) as executor:\n",
        "        executor.submit(get_hands, frame)\n",
        "        executor.submit(get_pose, frame)\n",
        "        executor.submit(get_face, frame)\n",
        "\n",
        "    return all_landmarks"
      ],
      "metadata": {
        "execution": {
          "iopub.status.busy": "2023-12-13T20:03:08.363969Z",
          "iopub.execute_input": "2023-12-13T20:03:08.364396Z",
          "iopub.status.idle": "2023-12-13T20:03:08.43972Z",
          "shell.execute_reply.started": "2023-12-13T20:03:08.364362Z",
          "shell.execute_reply": "2023-12-13T20:03:08.438422Z"
        },
        "trusted": true,
        "id": "AXIhU0wg6Mh0"
      },
      "execution_count": null,
      "outputs": []
    },
    {
      "cell_type": "markdown",
      "source": [
        "<h3>Extracting landmarks from a video"
      ],
      "metadata": {
        "id": "JY-K7drR6Mh1"
      }
    },
    {
      "cell_type": "code",
      "source": [
        "def get_video_landmarks(video_path, start_frame=1, end_frame=-1):\n",
        "    cap = cv2.VideoCapture(video_path)\n",
        "\n",
        "    # if the starting is 0\n",
        "    if start_frame <= 1:\n",
        "        start_frame = 1\n",
        "\n",
        "    # if the video is precropped\n",
        "    elif start_frame > int(cap.get(cv2.CAP_PROP_FRAME_COUNT)):\n",
        "        start_frame = 1\n",
        "        end_frame = int(cap.get(cv2.CAP_PROP_FRAME_COUNT))\n",
        "\n",
        "    # if the final frame was not given (-1)\n",
        "    if end_frame < 0:\n",
        "        end_frame = int(cap.get(cv2.CAP_PROP_FRAME_COUNT))\n",
        "\n",
        "    num_landmarks = HAND_NUM * 2 + POSE_NUM + FACE_NUM\n",
        "    all_frame_landmarks = np.zeros((end_frame - start_frame + 1, num_landmarks, 3))\n",
        "    frame_index = 1\n",
        "\n",
        "    while cap.isOpened() and frame_index <= end_frame:\n",
        "        ret, frame = cap.read()\n",
        "        if not ret:\n",
        "            break\n",
        "        if frame_index >= start_frame:\n",
        "            frame.flags.writeable = False\n",
        "            frame = cv2.cvtColor(frame, cv2.COLOR_BGR2RGB)\n",
        "            frame_landmarks = get_frame_landmarks(frame)\n",
        "            all_frame_landmarks[frame_index - start_frame] = frame_landmarks\n",
        "\n",
        "        frame_index += 1\n",
        "\n",
        "    cap.release()\n",
        "    hands.reset()\n",
        "    pose.reset()\n",
        "    face_mesh.reset()\n",
        "    return all_frame_landmarks"
      ],
      "metadata": {
        "execution": {
          "iopub.status.busy": "2023-12-13T20:03:09.853254Z",
          "iopub.execute_input": "2023-12-13T20:03:09.853646Z",
          "iopub.status.idle": "2023-12-13T20:03:09.865239Z",
          "shell.execute_reply.started": "2023-12-13T20:03:09.853617Z",
          "shell.execute_reply": "2023-12-13T20:03:09.863998Z"
        },
        "trusted": true,
        "id": "ROHAn7K56Mh1"
      },
      "execution_count": null,
      "outputs": []
    },
    {
      "cell_type": "markdown",
      "source": [
        "<h3>Drawing landmarks on a video"
      ],
      "metadata": {
        "id": "-tTD5lqd6Mh1"
      }
    },
    {
      "cell_type": "code",
      "source": [
        "def draw_landmarks(input_path, output_path, video_landmarks, start_frame=1, end_frame=-1):\n",
        "    cap = cv2.VideoCapture(input_path)\n",
        "    fps = int(cap.get(cv2.CAP_PROP_FPS))\n",
        "    width = int(cap.get(cv2.CAP_PROP_FRAME_WIDTH))\n",
        "    height = int(cap.get(cv2.CAP_PROP_FRAME_HEIGHT))\n",
        "    fourcc = cv2.VideoWriter_fourcc(*'mp4v')\n",
        "    out = cv2.VideoWriter(output_path, fourcc, fps, (width, height))\n",
        "\n",
        "    if start_frame <= 1:\n",
        "        start_frame = 1\n",
        "    elif start_frame > int(cap.get(cv2.CAP_PROP_FRAME_COUNT)):\n",
        "        start_frame = 1\n",
        "        end_frame = int(cap.get(cv2.CAP_PROP_FRAME_COUNT))\n",
        "    if end_frame < 0:\n",
        "        end_frame = int(cap.get(cv2.CAP_PROP_FRAME_COUNT))\n",
        "\n",
        "    frame_index = 1\n",
        "    while cap.isOpened():\n",
        "        ret, frame = cap.read()\n",
        "        if not ret:\n",
        "            break\n",
        "\n",
        "        if frame_index >= start_frame and frame_index <= end_frame:\n",
        "            frame_landmarks = video_landmarks[frame_index - start_frame]\n",
        "            landmarks = [(int(x * width), int(y * height)) for x, y, _ in frame_landmarks]\n",
        "            for x, y in landmarks:\n",
        "                cv2.circle(frame, (x, y), 3, (0, 0, 255), -1)\n",
        "            out.write(frame)\n",
        "        else:\n",
        "            # out.write(frame) # Enable if you want the full video\n",
        "            pass\n",
        "        frame_index += 1\n",
        "\n",
        "    cap.release()\n",
        "    out.release()"
      ],
      "metadata": {
        "execution": {
          "iopub.status.busy": "2023-12-13T20:03:12.10114Z",
          "iopub.execute_input": "2023-12-13T20:03:12.101553Z",
          "iopub.status.idle": "2023-12-13T20:03:12.114707Z",
          "shell.execute_reply.started": "2023-12-13T20:03:12.10152Z",
          "shell.execute_reply": "2023-12-13T20:03:12.113504Z"
        },
        "trusted": true,
        "id": "vln8wDTt6Mh1"
      },
      "execution_count": null,
      "outputs": []
    },
    {
      "cell_type": "markdown",
      "source": [
        "---"
      ],
      "metadata": {
        "id": "1zV7jF596Mh2"
      }
    },
    {
      "cell_type": "markdown",
      "source": [
        "<div id=\"Visualizing_Landmarks\">\n",
        "\n",
        "# **Visualizing Landmarks**\n",
        "**<h2>(Not important when training)**"
      ],
      "metadata": {
        "id": "Sl2qeR1H6Mh2"
      }
    },
    {
      "cell_type": "markdown",
      "source": [
        "<h3>Test on a frame"
      ],
      "metadata": {
        "id": "5M295rmI6Mh2"
      }
    },
    {
      "cell_type": "code",
      "source": [
        "import requests\n",
        "from PIL import Image\n",
        "from io import BytesIO\n",
        "\n",
        "image_url = 'https://images.unsplash.com/photo-1515294898968-a408405d7674'\n",
        "response = requests.get(image_url)\n",
        "img = Image.open(BytesIO(response.content))\n",
        "img = cv2.cvtColor(np.array(img), cv2.COLOR_RGB2BGR)\n",
        "\n",
        "plt.figure(figsize=(8, 8))\n",
        "plt.imshow(img[:,:,::-1])\n",
        "plt.axis('off')\n",
        "plt.show()"
      ],
      "metadata": {
        "execution": {
          "iopub.status.busy": "2023-12-13T20:03:14.764733Z",
          "iopub.execute_input": "2023-12-13T20:03:14.765181Z",
          "iopub.status.idle": "2023-12-13T20:03:19.004537Z",
          "shell.execute_reply.started": "2023-12-13T20:03:14.765148Z",
          "shell.execute_reply": "2023-12-13T20:03:19.003474Z"
        },
        "trusted": true,
        "id": "d5m5KXmW6Mh2"
      },
      "execution_count": null,
      "outputs": []
    },
    {
      "cell_type": "code",
      "source": [
        "height, width, _ = img.shape\n",
        "\n",
        "frame_landmarks = get_frame_landmarks(img[:,:,::-1])\n",
        "for landmark in frame_landmarks:\n",
        "    x = int(landmark[0] * width)\n",
        "    y = int(landmark[1] * height)\n",
        "    cv2.circle(img, (x, y), 10, (0, 255, 0), -1)\n",
        "\n",
        "plt.figure(figsize=(8, 8))\n",
        "plt.imshow(img[:,:,::-1])\n",
        "plt.axis('off')\n",
        "plt.show()"
      ],
      "metadata": {
        "execution": {
          "iopub.status.busy": "2023-12-13T20:03:19.006583Z",
          "iopub.execute_input": "2023-12-13T20:03:19.007722Z",
          "iopub.status.idle": "2023-12-13T20:03:22.826447Z",
          "shell.execute_reply.started": "2023-12-13T20:03:19.00766Z",
          "shell.execute_reply": "2023-12-13T20:03:22.82529Z"
        },
        "trusted": true,
        "id": "AtBlixU46Mh2"
      },
      "execution_count": null,
      "outputs": []
    },
    {
      "cell_type": "markdown",
      "source": [
        "<h3> Test on video"
      ],
      "metadata": {
        "id": "guxmj2cT6Mh2"
      }
    },
    {
      "cell_type": "code",
      "source": [
        "with open('/kaggle/input/mutemotion-output/WLASL_parsed_data.json', 'r') as json_file:\n",
        "    data = json.load(json_file)\n",
        "\n",
        "test = data[40]\n",
        "video_landmarks = get_video_landmarks(test['video_path'],test['frame_start'],test['frame_end'])\n",
        "\n",
        "output_path = '/kaggle/working/landmarks_test.mp4'\n",
        "draw_landmarks(test['video_path'], output_path, video_landmarks, test['frame_start'],test['frame_end'])"
      ],
      "metadata": {
        "execution": {
          "iopub.status.busy": "2023-12-12T17:45:22.376165Z",
          "iopub.execute_input": "2023-12-12T17:45:22.376565Z",
          "iopub.status.idle": "2023-12-12T17:45:28.094842Z",
          "shell.execute_reply.started": "2023-12-12T17:45:22.37653Z",
          "shell.execute_reply": "2023-12-12T17:45:28.093936Z"
        },
        "trusted": true,
        "id": "swDX9lf16Mh3"
      },
      "execution_count": null,
      "outputs": []
    },
    {
      "cell_type": "code",
      "source": [
        "# os.remove('/kaggle/working/landmarks_test.mp4')"
      ],
      "metadata": {
        "execution": {
          "iopub.status.busy": "2023-12-04T01:25:47.74273Z",
          "iopub.execute_input": "2023-12-04T01:25:47.743116Z",
          "iopub.status.idle": "2023-12-04T01:25:47.748078Z",
          "shell.execute_reply.started": "2023-12-04T01:25:47.743085Z",
          "shell.execute_reply": "2023-12-04T01:25:47.746875Z"
        },
        "trusted": true,
        "id": "da7bKwnp6Mh3"
      },
      "execution_count": null,
      "outputs": []
    },
    {
      "cell_type": "markdown",
      "source": [
        "---"
      ],
      "metadata": {
        "id": "Px08rgq36Mh3"
      }
    },
    {
      "cell_type": "markdown",
      "source": [
        "<div id=\"Data_Encoding\">\n",
        "    \n",
        "# **Data Encoding**\n",
        "**<h2>(Done Once)**"
      ],
      "metadata": {
        "id": "DEAx9Zow6Mh3"
      }
    },
    {
      "cell_type": "code",
      "source": [
        "npy_dir = '/kaggle/working/landmarks'\n",
        "os.makedirs(npy_dir, exist_ok=True)"
      ],
      "metadata": {
        "execution": {
          "iopub.status.busy": "2023-12-01T21:41:26.557079Z",
          "iopub.execute_input": "2023-12-01T21:41:26.557393Z",
          "iopub.status.idle": "2023-12-01T21:41:26.561758Z",
          "shell.execute_reply.started": "2023-12-01T21:41:26.557365Z",
          "shell.execute_reply": "2023-12-01T21:41:26.560867Z"
        },
        "trusted": true,
        "id": "klyF7QIx6Mh3"
      },
      "execution_count": null,
      "outputs": []
    },
    {
      "cell_type": "code",
      "source": [
        "try:\n",
        "    for i in tqdm(range(len(data)), ncols=100):\n",
        "        npy_path = os.path.join(npy_dir, f'{i}.npy')\n",
        "        if os.path.exists(npy_path): continue\n",
        "        video_path = data[i]['video_path']\n",
        "        start = data[i]['frame_start']\n",
        "        end = data[i]['frame_end']\n",
        "\n",
        "        try:\n",
        "            video_landmarks = get_video_landmarks(video_path, start, end)\n",
        "            np.save(npy_path, video_landmarks)\n",
        "\n",
        "        except Exception as e:\n",
        "            print(f\"\\nError encoding {video_path}\\n{e}\")\n",
        "            continue\n",
        "        clear_output(wait=True)\n",
        "\n",
        "except KeyboardInterrupt:\n",
        "    print(\"\\nLoading process interrupted by user.\")"
      ],
      "metadata": {
        "execution": {
          "iopub.status.busy": "2023-12-01T21:42:09.695984Z",
          "iopub.execute_input": "2023-12-01T21:42:09.696373Z",
          "iopub.status.idle": "2023-12-01T21:42:09.838056Z",
          "shell.execute_reply.started": "2023-12-01T21:42:09.696343Z",
          "shell.execute_reply": "2023-12-01T21:42:09.836974Z"
        },
        "trusted": true,
        "id": "TcUSH9kQ6Mh4"
      },
      "execution_count": null,
      "outputs": []
    },
    {
      "cell_type": "code",
      "source": [
        "landmarks_dict = {}\n",
        "\n",
        "for filename in os.listdir(npy_dir):\n",
        "    if filename.endswith('.npy'):\n",
        "        key = filename.split('.')[0]\n",
        "        landmarks = np.load(os.path.join(npy_dir, filename), allow_pickle=True)\n",
        "        landmarks_dict[key] = landmarks\n",
        "\n",
        "np.savez_compressed('/kaggle/working/landmarks_V2.npz', **landmarks_dict)\n",
        "\n",
        "FileLink(r'landmarks_V2.npz')"
      ],
      "metadata": {
        "execution": {
          "iopub.status.busy": "2023-12-01T21:42:48.16379Z",
          "iopub.execute_input": "2023-12-01T21:42:48.164484Z",
          "iopub.status.idle": "2023-12-01T21:53:35.00202Z",
          "shell.execute_reply.started": "2023-12-01T21:42:48.164449Z",
          "shell.execute_reply": "2023-12-01T21:53:35.000023Z"
        },
        "trusted": true,
        "id": "UZZeyJvm6Mh4"
      },
      "execution_count": null,
      "outputs": []
    },
    {
      "cell_type": "code",
      "source": [
        "# shutil.rmtree(npy_dir)\n",
        "# os.remove('/kaggle/working/landmarks_V2.npz')"
      ],
      "metadata": {
        "execution": {
          "iopub.status.busy": "2023-12-12T15:16:48.8482Z",
          "iopub.execute_input": "2023-12-12T15:16:48.848655Z",
          "iopub.status.idle": "2023-12-12T15:16:48.854646Z",
          "shell.execute_reply.started": "2023-12-12T15:16:48.848618Z",
          "shell.execute_reply": "2023-12-12T15:16:48.853147Z"
        },
        "trusted": true,
        "id": "xHggL8406Mh4"
      },
      "execution_count": null,
      "outputs": []
    },
    {
      "cell_type": "markdown",
      "source": [
        "---"
      ],
      "metadata": {
        "id": "Ga90VfGG6MiD"
      }
    },
    {
      "cell_type": "markdown",
      "source": [
        "<div id=\"Label_Filtering\">\n",
        "\n",
        "# **Label Filtering**\n",
        "**<h2>(Done Once)**"
      ],
      "metadata": {
        "id": "3KpWhgy96MiD"
      }
    },
    {
      "cell_type": "code",
      "source": [
        "import fasttext\n",
        "import fasttext.util\n",
        "fasttext.util.download_model('en', if_exists='ignore')\n",
        "ft = fasttext.load_model('cc.en.300.bin')"
      ],
      "metadata": {
        "trusted": true,
        "id": "sBC_SwhS6MiD"
      },
      "execution_count": null,
      "outputs": []
    },
    {
      "cell_type": "code",
      "source": [
        "labels = list(np.unique(Y_train))\n",
        "len(labels)"
      ],
      "metadata": {
        "execution": {
          "iopub.status.busy": "2023-12-13T20:34:28.024306Z",
          "iopub.execute_input": "2023-12-13T20:34:28.024795Z",
          "iopub.status.idle": "2023-12-13T20:34:28.047797Z",
          "shell.execute_reply.started": "2023-12-13T20:34:28.024757Z",
          "shell.execute_reply": "2023-12-13T20:34:28.046693Z"
        },
        "trusted": true,
        "id": "7J5Z_xqm6MiE"
      },
      "execution_count": null,
      "outputs": []
    },
    {
      "cell_type": "code",
      "source": [
        "encoded_labels = {label: ft.get_word_vector(label) for label in labels}\n",
        "np.savez_compressed('labels.npz', **encoded_labels)"
      ],
      "metadata": {
        "execution": {
          "iopub.status.busy": "2023-12-13T20:35:18.882941Z",
          "iopub.execute_input": "2023-12-13T20:35:18.883364Z",
          "iopub.status.idle": "2023-12-13T20:35:19.443149Z",
          "shell.execute_reply.started": "2023-12-13T20:35:18.883334Z",
          "shell.execute_reply": "2023-12-13T20:35:19.442181Z"
        },
        "trusted": true,
        "id": "ps37_yuF6MiE"
      },
      "execution_count": null,
      "outputs": []
    },
    {
      "cell_type": "code",
      "source": [
        "ft.get_nearest_neighbors('happy', k=10)"
      ],
      "metadata": {
        "execution": {
          "iopub.status.busy": "2023-12-13T20:35:25.028792Z",
          "iopub.execute_input": "2023-12-13T20:35:25.029211Z",
          "iopub.status.idle": "2023-12-13T20:35:42.048749Z",
          "shell.execute_reply.started": "2023-12-13T20:35:25.029178Z",
          "shell.execute_reply": "2023-12-13T20:35:42.047489Z"
        },
        "trusted": true,
        "id": "HB6hYh_u6MiE"
      },
      "execution_count": null,
      "outputs": []
    },
    {
      "cell_type": "code",
      "source": [
        "def cosine_similarity(v1, v2):\n",
        "    return np.dot(v1, v2) / (np.linalg.norm(v1) * np.linalg.norm(v2))\n",
        "\n",
        "word1 = 'happy'\n",
        "word2 = 'pleased'\n",
        "\n",
        "vector1 = ft.get_word_vector(word1)\n",
        "vector2 = ft.get_word_vector(word2)\n",
        "\n",
        "similarity_score = cosine_similarity(vector1, vector2)\n",
        "print(f\"Similarity score between '{word1}' and '{word2}': {similarity_score}\")"
      ],
      "metadata": {
        "execution": {
          "iopub.status.busy": "2023-12-13T20:36:43.211894Z",
          "iopub.execute_input": "2023-12-13T20:36:43.212317Z",
          "iopub.status.idle": "2023-12-13T20:36:43.222108Z",
          "shell.execute_reply.started": "2023-12-13T20:36:43.212285Z",
          "shell.execute_reply": "2023-12-13T20:36:43.220603Z"
        },
        "trusted": true,
        "id": "_bd8nEaz6MiE"
      },
      "execution_count": null,
      "outputs": []
    },
    {
      "cell_type": "code",
      "source": [
        "labels_dict = np.load('/kaggle/working/labels.npz', allow_pickle=True)"
      ],
      "metadata": {
        "execution": {
          "iopub.status.busy": "2023-12-13T20:36:55.747583Z",
          "iopub.execute_input": "2023-12-13T20:36:55.748003Z",
          "iopub.status.idle": "2023-12-13T20:36:55.782281Z",
          "shell.execute_reply.started": "2023-12-13T20:36:55.74797Z",
          "shell.execute_reply": "2023-12-13T20:36:55.780967Z"
        },
        "trusted": true,
        "id": "L0tgLUw56MiE"
      },
      "execution_count": null,
      "outputs": []
    },
    {
      "cell_type": "code",
      "source": [
        "word = 'car'\n",
        "word_vector = ft.get_word_vector(word)\n",
        "\n",
        "similarity_scores = []\n",
        "for label, label_vector in labels_dict.items():\n",
        "    similarity_scores.append(cosine_similarity(word_vector, label_vector))"
      ],
      "metadata": {
        "execution": {
          "iopub.status.busy": "2023-12-13T20:36:59.946818Z",
          "iopub.execute_input": "2023-12-13T20:36:59.947238Z",
          "iopub.status.idle": "2023-12-13T20:37:01.153393Z",
          "shell.execute_reply.started": "2023-12-13T20:36:59.947204Z",
          "shell.execute_reply": "2023-12-13T20:37:01.152476Z"
        },
        "trusted": true,
        "id": "2w8rQ4Bs6MiE"
      },
      "execution_count": null,
      "outputs": []
    },
    {
      "cell_type": "code",
      "source": [
        "bins = np.linspace(0, 1, 21)\n",
        "\n",
        "plt.hist(similarity_scores, bins=bins, edgecolor='black')\n",
        "plt.title(f'Cosine Similarity Distribution to \"{word}\"')\n",
        "plt.xlabel('Cosine Similarity')\n",
        "plt.ylabel('Frequency')\n",
        "plt.xticks(np.arange(0, 1.1, 0.1))\n",
        "plt.grid(axis='y')\n",
        "plt.show()"
      ],
      "metadata": {
        "execution": {
          "iopub.status.busy": "2023-12-13T20:37:03.059063Z",
          "iopub.execute_input": "2023-12-13T20:37:03.059487Z",
          "iopub.status.idle": "2023-12-13T20:37:03.4361Z",
          "shell.execute_reply.started": "2023-12-13T20:37:03.059455Z",
          "shell.execute_reply": "2023-12-13T20:37:03.43474Z"
        },
        "trusted": true,
        "id": "keLckfsI6MiE"
      },
      "execution_count": null,
      "outputs": []
    },
    {
      "cell_type": "code",
      "source": [
        "taxi_words = [\n",
        "    'hello',\n",
        "    'goodbye',\n",
        "    'thank you',\n",
        "    'sorry',\n",
        "    'yes',\n",
        "    'no',\n",
        "    'stop',\n",
        "    'go',\n",
        "    'left',\n",
        "    'right',\n",
        "    'ahead',\n",
        "    'around',\n",
        "    'help',\n",
        "    'address',\n",
        "    'destination',\n",
        "    'time',\n",
        "    'money',\n",
        "    'cost',\n",
        "    'lost',\n",
        "    'map',\n",
        "    'street',\n",
        "    'road'\n",
        "]"
      ],
      "metadata": {
        "execution": {
          "iopub.status.busy": "2023-12-13T20:45:04.189054Z",
          "iopub.execute_input": "2023-12-13T20:45:04.189567Z",
          "iopub.status.idle": "2023-12-13T20:45:04.197052Z",
          "shell.execute_reply.started": "2023-12-13T20:45:04.189534Z",
          "shell.execute_reply": "2023-12-13T20:45:04.195855Z"
        },
        "trusted": true,
        "id": "42WG4h9e6MiE"
      },
      "execution_count": null,
      "outputs": []
    },
    {
      "cell_type": "code",
      "source": [
        "threshold = 0.4\n",
        "similar_words_set = set()\n",
        "taxi_vectors = [ft.get_word_vector(word) for word in taxi_words]\n",
        "\n",
        "for label, label_vector in labels_dict.items():\n",
        "    for taxi_vector in taxi_vectors:\n",
        "        similarity_score = cosine_similarity(taxi_vector, label_vector)\n",
        "        if similarity_score > threshold:\n",
        "            similar_words_set.add(label)\n",
        "\n",
        "similar_words_list = list(similar_words_set)"
      ],
      "metadata": {
        "execution": {
          "iopub.status.busy": "2023-12-13T20:45:08.603409Z",
          "iopub.execute_input": "2023-12-13T20:45:08.604326Z",
          "iopub.status.idle": "2023-12-13T20:45:10.841256Z",
          "shell.execute_reply.started": "2023-12-13T20:45:08.604273Z",
          "shell.execute_reply": "2023-12-13T20:45:10.839978Z"
        },
        "trusted": true,
        "id": "zlm2s6sw6MiE"
      },
      "execution_count": null,
      "outputs": []
    },
    {
      "cell_type": "code",
      "source": [
        "len(similar_words_list)"
      ],
      "metadata": {
        "execution": {
          "iopub.status.busy": "2023-12-13T20:45:10.8438Z",
          "iopub.execute_input": "2023-12-13T20:45:10.844273Z",
          "iopub.status.idle": "2023-12-13T20:45:10.851792Z",
          "shell.execute_reply.started": "2023-12-13T20:45:10.844227Z",
          "shell.execute_reply": "2023-12-13T20:45:10.850531Z"
        },
        "trusted": true,
        "id": "d90PwTu56MiF"
      },
      "execution_count": null,
      "outputs": []
    },
    {
      "cell_type": "code",
      "source": [
        "with open('/kaggle/working/filtered_labels.txt', 'w') as file:\n",
        "    for label in similar_words_list:\n",
        "        file.write(label + '\\n')"
      ],
      "metadata": {
        "execution": {
          "iopub.status.busy": "2023-12-13T20:45:10.85337Z",
          "iopub.execute_input": "2023-12-13T20:45:10.853775Z",
          "iopub.status.idle": "2023-12-13T20:45:10.867534Z",
          "shell.execute_reply.started": "2023-12-13T20:45:10.853743Z",
          "shell.execute_reply": "2023-12-13T20:45:10.865963Z"
        },
        "trusted": true,
        "id": "cOYCWL8y6MiF"
      },
      "execution_count": null,
      "outputs": []
    },
    {
      "cell_type": "markdown",
      "source": [
        "---"
      ],
      "metadata": {
        "id": "pJoQttEW6MiF"
      }
    },
    {
      "cell_type": "markdown",
      "source": [
        "<div id=\"Data_Loading\">\n",
        "    \n",
        "# **Data Loading**"
      ],
      "metadata": {
        "id": "ucI-KYh_6MiG"
      }
    },
    {
      "cell_type": "code",
      "source": [
        "landmarks_dict = np.load('/kaggle/input/mutemotion-output/landmarks_V3.npz', allow_pickle=True)"
      ],
      "metadata": {
        "execution": {
          "iopub.status.busy": "2023-12-13T23:19:48.819416Z",
          "iopub.execute_input": "2023-12-13T23:19:48.820065Z",
          "iopub.status.idle": "2023-12-13T23:19:49.302687Z",
          "shell.execute_reply.started": "2023-12-13T23:19:48.820029Z",
          "shell.execute_reply": "2023-12-13T23:19:49.301686Z"
        },
        "trusted": true,
        "id": "fOgEYFzS6MiG"
      },
      "execution_count": null,
      "outputs": []
    },
    {
      "cell_type": "code",
      "source": [
        "labels_dict = np.load('/kaggle/input/mutemotion-output/labels.npz', allow_pickle=True)"
      ],
      "metadata": {
        "execution": {
          "iopub.status.busy": "2023-12-13T23:19:49.304389Z",
          "iopub.execute_input": "2023-12-13T23:19:49.305167Z",
          "iopub.status.idle": "2023-12-13T23:19:49.344938Z",
          "shell.execute_reply.started": "2023-12-13T23:19:49.305117Z",
          "shell.execute_reply": "2023-12-13T23:19:49.344232Z"
        },
        "trusted": true,
        "id": "KFQL3e1W6MiG"
      },
      "execution_count": null,
      "outputs": []
    },
    {
      "cell_type": "code",
      "source": [
        "with open('/kaggle/input/mutemotion-output/WLASL_parsed_data.json', 'r') as json_file:\n",
        "    data = json.load(json_file)"
      ],
      "metadata": {
        "execution": {
          "iopub.status.busy": "2023-12-13T23:19:49.414464Z",
          "iopub.execute_input": "2023-12-13T23:19:49.415033Z",
          "iopub.status.idle": "2023-12-13T23:19:49.494067Z",
          "shell.execute_reply.started": "2023-12-13T23:19:49.415006Z",
          "shell.execute_reply": "2023-12-13T23:19:49.493294Z"
        },
        "trusted": true,
        "id": "d8LvKCFi6MiG"
      },
      "execution_count": null,
      "outputs": []
    },
    {
      "cell_type": "markdown",
      "source": [
        "<h3> Filter Landmarks (Only for V3)"
      ],
      "metadata": {
        "id": "MnfU3eq36MiH"
      }
    },
    {
      "cell_type": "code",
      "source": [
        "filtered_hand = list(range(21))\n",
        "\n",
        "filtered_pose = [11, 12, 13, 14, 15, 16]\n",
        "\n",
        "filtered_face = [0, 4, 7, 8, 10, 13, 14, 17, 21, 33, 37, 39, 40, 46, 52, 53, 54, 55, 58,\n",
        "                 61, 63, 65, 66, 67, 70, 78, 80, 81, 82, 84, 87, 88, 91, 93, 95, 103, 105,\n",
        "                 107, 109, 127, 132, 133, 136, 144, 145, 146, 148, 149, 150, 152, 153, 154,\n",
        "                 155, 157, 158, 159, 160, 161, 162, 163, 172, 173, 176, 178, 181, 185, 191,\n",
        "                 234, 246, 249, 251, 263, 267, 269, 270, 276, 282, 283, 284, 285, 288, 291,\n",
        "                 293, 295, 296, 297, 300, 308, 310, 311, 312, 314, 317, 318, 321, 323, 324,\n",
        "                 332, 334, 336, 338, 356, 361, 362, 365, 373, 374, 375, 377, 378, 379, 380,\n",
        "                 381, 382, 384, 385, 386, 387, 388, 389, 390, 397, 398, 400, 402, 405, 409,\n",
        "                 415, 454, 466, 468, 473]\n",
        "\n",
        "HAND_NUM = len(filtered_hand)\n",
        "POSE_NUM = len(filtered_pose)\n",
        "FACE_NUM = len(filtered_face)"
      ],
      "metadata": {
        "execution": {
          "iopub.status.busy": "2023-12-13T23:20:01.019836Z",
          "iopub.execute_input": "2023-12-13T23:20:01.020581Z",
          "iopub.status.idle": "2023-12-13T23:20:01.030211Z",
          "shell.execute_reply.started": "2023-12-13T23:20:01.020549Z",
          "shell.execute_reply": "2023-12-13T23:20:01.029273Z"
        },
        "trusted": true,
        "id": "Ky0v62xa6MiI"
      },
      "execution_count": null,
      "outputs": []
    },
    {
      "cell_type": "code",
      "source": [
        "landmarks = (\n",
        "    [x for x in filtered_hand] +\n",
        "    [x + HAND_NUM for x in filtered_hand] +\n",
        "    [x + HAND_NUM * 2 for x in filtered_pose] +\n",
        "    [x + HAND_NUM * 2 + POSE_NUM for x in filtered_face]\n",
        ")\n",
        "\n",
        "print(landmarks)\n",
        "print(f'\\nTotal Number: {len(landmarks)}')"
      ],
      "metadata": {
        "execution": {
          "iopub.status.busy": "2023-12-13T23:20:04.305408Z",
          "iopub.execute_input": "2023-12-13T23:20:04.305791Z",
          "iopub.status.idle": "2023-12-13T23:20:04.311994Z",
          "shell.execute_reply.started": "2023-12-13T23:20:04.305761Z",
          "shell.execute_reply": "2023-12-13T23:20:04.310993Z"
        },
        "trusted": true,
        "id": "8ZlJ1gyE6MiJ"
      },
      "execution_count": null,
      "outputs": []
    },
    {
      "cell_type": "markdown",
      "source": [
        "<h3> Filter Data Source"
      ],
      "metadata": {
        "id": "EE8mNZFj6MiK"
      }
    },
    {
      "cell_type": "code",
      "source": [
        "# Only from the wlasl-processed dataset\n",
        "# keys = [k for k in landmarks_dict.keys() if 'wlasl-processed' in data[int(k)]['video_path']]\n",
        "\n",
        "# Only from the wlasl2000-resized dataset\n",
        "# keys = [k for k in landmarks_dict.keys() if 'wlasl2000-resized' in data[int(k)]['video_path']]"
      ],
      "metadata": {
        "execution": {
          "iopub.status.busy": "2023-12-13T23:20:05.983816Z",
          "iopub.execute_input": "2023-12-13T23:20:05.984766Z",
          "iopub.status.idle": "2023-12-13T23:20:05.988837Z",
          "shell.execute_reply.started": "2023-12-13T23:20:05.984733Z",
          "shell.execute_reply": "2023-12-13T23:20:05.987835Z"
        },
        "trusted": true,
        "id": "deXMOpMF6MiK"
      },
      "execution_count": null,
      "outputs": []
    },
    {
      "cell_type": "markdown",
      "source": [
        "<h3> Filter Labels"
      ],
      "metadata": {
        "id": "Q3AXRbLF6MiL"
      }
    },
    {
      "cell_type": "code",
      "source": [
        "labels = []\n",
        "with open('/kaggle/input/mutemotion-output/filtered_labels.txt', 'r') as file:\n",
        "    labels = file.read().splitlines()"
      ],
      "metadata": {
        "execution": {
          "iopub.status.busy": "2023-12-13T23:20:08.068759Z",
          "iopub.execute_input": "2023-12-13T23:20:08.069495Z",
          "iopub.status.idle": "2023-12-13T23:20:08.078989Z",
          "shell.execute_reply.started": "2023-12-13T23:20:08.069462Z",
          "shell.execute_reply": "2023-12-13T23:20:08.078062Z"
        },
        "trusted": true,
        "id": "qceqLY-g6MiL"
      },
      "execution_count": null,
      "outputs": []
    },
    {
      "cell_type": "code",
      "source": [
        "len(labels)"
      ],
      "metadata": {
        "execution": {
          "iopub.status.busy": "2023-12-13T23:20:10.568656Z",
          "iopub.execute_input": "2023-12-13T23:20:10.569502Z",
          "iopub.status.idle": "2023-12-13T23:20:10.576135Z",
          "shell.execute_reply.started": "2023-12-13T23:20:10.569465Z",
          "shell.execute_reply": "2023-12-13T23:20:10.575254Z"
        },
        "trusted": true,
        "id": "N_9QwxOF6MiM"
      },
      "execution_count": null,
      "outputs": []
    },
    {
      "cell_type": "markdown",
      "source": [
        "<h3> Loading Function"
      ],
      "metadata": {
        "id": "_omvnVGr6MiM"
      }
    },
    {
      "cell_type": "code",
      "source": [
        "def load_data(split, labels=None, max_labels=None, max_samples=None, landmarks=None, keys=None):\n",
        "\n",
        "    if landmarks is None:\n",
        "        landmarks = list(range(landmarks_dict['0'].shape[1]))\n",
        "\n",
        "    if keys is None:\n",
        "        keys = [k for k in landmarks_dict.keys()]\n",
        "\n",
        "    if labels is not None:\n",
        "        X = [landmarks_dict[k][:, landmarks, :] for k in keys\n",
        "             if data[int(k)]['split'] == split and data[int(k)]['gloss'] in labels]\n",
        "        Y = [data[int(k)]['gloss'] for k in keys\n",
        "             if data[int(k)]['split'] == split and data[int(k)]['gloss'] in labels]\n",
        "\n",
        "    elif max_samples is not None:\n",
        "        X = [landmarks_dict[k][:, landmarks, :] for k in keys\n",
        "             if data[int(k)]['split'] == split][:max_samples]\n",
        "        Y = [data[int(k)]['gloss'] for k in keys\n",
        "             if data[int(k)]['split'] == split][:max_samples]\n",
        "\n",
        "    elif max_labels is not None:\n",
        "        label_counts = {}\n",
        "        for k in keys:\n",
        "            label = data[int(k)]['gloss']\n",
        "            label_counts[label] = label_counts.get(label, 0) + 1\n",
        "\n",
        "        top_labels = sorted(label_counts, key=label_counts.get, reverse=True)[:max_labels]\n",
        "        X = [landmarks_dict[k][:, landmarks, :] for k in keys\n",
        "             if data[int(k)]['gloss'] in top_labels and data[int(k)]['split'] == split]\n",
        "        Y = [data[int(k)]['gloss'] for k in keys\n",
        "             if data[int(k)]['gloss'] in top_labels and data[int(k)]['split'] == split]\n",
        "\n",
        "    else:\n",
        "        X = [landmarks_dict[k][:, landmarks, :] for k in keys\n",
        "             if data[int(k)]['split'] == split]\n",
        "        Y = [data[int(k)]['gloss'] for k in keys\n",
        "             if data[int(k)]['split'] == split]\n",
        "\n",
        "    return X, Y"
      ],
      "metadata": {
        "execution": {
          "iopub.status.busy": "2023-12-13T23:20:11.69043Z",
          "iopub.execute_input": "2023-12-13T23:20:11.690812Z",
          "iopub.status.idle": "2023-12-13T23:20:11.704966Z",
          "shell.execute_reply.started": "2023-12-13T23:20:11.690783Z",
          "shell.execute_reply": "2023-12-13T23:20:11.703928Z"
        },
        "trusted": true,
        "id": "0Se5CZno6MiN"
      },
      "execution_count": null,
      "outputs": []
    },
    {
      "cell_type": "code",
      "source": [
        "X_train, Y_train = load_data('train', landmarks=landmarks, labels=labels)\n",
        "X_val, Y_val = load_data('val', landmarks=landmarks, labels=labels)\n",
        "X_test, Y_test = load_data('test', landmarks=landmarks, labels=labels)"
      ],
      "metadata": {
        "execution": {
          "iopub.status.busy": "2023-12-13T23:20:12.660592Z",
          "iopub.execute_input": "2023-12-13T23:20:12.660965Z",
          "iopub.status.idle": "2023-12-13T23:21:09.899172Z",
          "shell.execute_reply.started": "2023-12-13T23:20:12.660936Z",
          "shell.execute_reply": "2023-12-13T23:21:09.898348Z"
        },
        "trusted": true,
        "id": "v1Bbx9oU6MiN"
      },
      "execution_count": null,
      "outputs": []
    },
    {
      "cell_type": "code",
      "source": [
        "len(X_train), len(X_val), len(X_test)"
      ],
      "metadata": {
        "execution": {
          "iopub.status.busy": "2023-12-13T23:22:28.196964Z",
          "iopub.execute_input": "2023-12-13T23:22:28.198004Z",
          "iopub.status.idle": "2023-12-13T23:22:28.204781Z",
          "shell.execute_reply.started": "2023-12-13T23:22:28.197957Z",
          "shell.execute_reply": "2023-12-13T23:22:28.203877Z"
        },
        "trusted": true,
        "id": "3Tl1n-X26MiN"
      },
      "execution_count": null,
      "outputs": []
    },
    {
      "cell_type": "code",
      "source": [
        "X_train[0].shape"
      ],
      "metadata": {
        "execution": {
          "iopub.status.busy": "2023-12-13T23:22:30.302072Z",
          "iopub.execute_input": "2023-12-13T23:22:30.302969Z",
          "iopub.status.idle": "2023-12-13T23:22:30.308799Z",
          "shell.execute_reply.started": "2023-12-13T23:22:30.302936Z",
          "shell.execute_reply": "2023-12-13T23:22:30.307797Z"
        },
        "trusted": true,
        "id": "T3hR0Z476MiO"
      },
      "execution_count": null,
      "outputs": []
    },
    {
      "cell_type": "code",
      "source": [
        "len(np.unique(Y_train)), len(np.unique(Y_val)), len(np.unique(Y_test))"
      ],
      "metadata": {
        "execution": {
          "iopub.status.busy": "2023-12-13T23:22:35.56711Z",
          "iopub.execute_input": "2023-12-13T23:22:35.567925Z",
          "iopub.status.idle": "2023-12-13T23:22:35.578269Z",
          "shell.execute_reply.started": "2023-12-13T23:22:35.567889Z",
          "shell.execute_reply": "2023-12-13T23:22:35.577364Z"
        },
        "trusted": true,
        "id": "H-mIqMSl6MiO"
      },
      "execution_count": null,
      "outputs": []
    },
    {
      "cell_type": "code",
      "source": [
        "np.all(np.in1d(np.unique(Y_val), np.unique(Y_train))),\\\n",
        "np.all(np.in1d(np.unique(Y_test), np.unique(Y_train)))"
      ],
      "metadata": {
        "execution": {
          "iopub.status.busy": "2023-12-13T23:22:38.079032Z",
          "iopub.execute_input": "2023-12-13T23:22:38.079828Z",
          "iopub.status.idle": "2023-12-13T23:22:38.09368Z",
          "shell.execute_reply.started": "2023-12-13T23:22:38.079794Z",
          "shell.execute_reply": "2023-12-13T23:22:38.092643Z"
        },
        "trusted": true,
        "id": "_M5JATVD6MiP"
      },
      "execution_count": null,
      "outputs": []
    },
    {
      "cell_type": "code",
      "source": [
        "# free space\n",
        "del landmarks_dict, data\n",
        "gc.collect()"
      ],
      "metadata": {
        "execution": {
          "iopub.status.busy": "2023-12-13T23:22:41.033548Z",
          "iopub.execute_input": "2023-12-13T23:22:41.034224Z",
          "iopub.status.idle": "2023-12-13T23:22:41.248115Z",
          "shell.execute_reply.started": "2023-12-13T23:22:41.034189Z",
          "shell.execute_reply": "2023-12-13T23:22:41.247204Z"
        },
        "trusted": true,
        "id": "X_a6El966MiP"
      },
      "execution_count": null,
      "outputs": []
    },
    {
      "cell_type": "markdown",
      "source": [
        "---"
      ],
      "metadata": {
        "id": "NAky9PBR6MiQ"
      }
    },
    {
      "cell_type": "markdown",
      "source": [
        "<div id=\"Data_Augmentation\">\n",
        "    \n",
        "# **Data Augmentation**"
      ],
      "metadata": {
        "id": "CGP8faYP6MiQ"
      }
    },
    {
      "cell_type": "markdown",
      "source": [
        "<h3> Rotation Augmentations"
      ],
      "metadata": {
        "id": "t6DQKtWl6MiQ"
      }
    },
    {
      "cell_type": "code",
      "source": [
        "def rotate(data, rotation_matrix):\n",
        "    frames, landmarks, _ = data.shape\n",
        "    center = np.array([0.5, 0.5, 0])\n",
        "    non_zero = np.argwhere(np.any(data[:, :, :2] != 0, axis=2))\n",
        "    data = data.reshape(-1, 3)\n",
        "    data[non_zero] -= center\n",
        "    data[non_zero] = np.dot(data[non_zero], rotation_matrix.T)\n",
        "    data[non_zero] += center\n",
        "    data = data.reshape(frames, landmarks, 3)\n",
        "    out_of_range = np.any((data[:, :, :2] < 0) | (data[:, :, :2] > 1), axis=2)\n",
        "    data[out_of_range] = 0\n",
        "    return data\n",
        "\n",
        "def rotate_z(data):\n",
        "    angle = np.random.choice([np.random.uniform(-30, -10),\n",
        "                              np.random.uniform(10, 30)])\n",
        "    theta = np.radians(angle)\n",
        "    rotation_matrix = np.array([\n",
        "        [np.cos(theta), -np.sin(theta), 0],\n",
        "        [np.sin(theta), np.cos(theta), 0],\n",
        "        [0, 0, 1]\n",
        "    ])\n",
        "    return rotate(data, rotation_matrix)\n",
        "\n",
        "def rotate_y(data):\n",
        "    angle = np.random.choice([np.random.uniform(-30, -10),\n",
        "                              np.random.uniform(10, 30)])\n",
        "    theta = np.radians(angle)\n",
        "    rotation_matrix = np.array([\n",
        "        [np.cos(theta), 0, np.sin(theta)],\n",
        "        [0, 1, 0],\n",
        "        [-np.sin(theta), 0, np.cos(theta)]\n",
        "    ])\n",
        "    return rotate(data, rotation_matrix)\n",
        "\n",
        "def rotate_x(data):\n",
        "    angle = np.random.choice([np.random.uniform(-30, -10),\n",
        "                              np.random.uniform(10, 30)])\n",
        "    theta = np.radians(angle)\n",
        "    rotation_matrix = np.array([\n",
        "        [1, 0, 0],\n",
        "        [0, np.cos(theta), -np.sin(theta)],\n",
        "        [0, np.sin(theta), np.cos(theta)]\n",
        "    ])\n",
        "    return rotate(data, rotation_matrix)"
      ],
      "metadata": {
        "execution": {
          "iopub.status.busy": "2023-12-13T23:22:45.269816Z",
          "iopub.execute_input": "2023-12-13T23:22:45.270588Z",
          "iopub.status.idle": "2023-12-13T23:22:45.283965Z",
          "shell.execute_reply.started": "2023-12-13T23:22:45.270553Z",
          "shell.execute_reply": "2023-12-13T23:22:45.282973Z"
        },
        "trusted": true,
        "id": "vdpcblHK6MiQ"
      },
      "execution_count": null,
      "outputs": []
    },
    {
      "cell_type": "markdown",
      "source": [
        "<h3> Other Augmentations"
      ],
      "metadata": {
        "id": "MxTOktOv6MiR"
      }
    },
    {
      "cell_type": "code",
      "source": [
        "def zoom(data):\n",
        "    factor = np.random.uniform(0.8, 1.2)\n",
        "    center = np.array([0.5, 0.5])\n",
        "    non_zero = np.argwhere(np.any(data[:, :, :2] != 0, axis=2))\n",
        "    data[non_zero[:, 0], non_zero[:, 1], :2] = (\n",
        "        (data[non_zero[:, 0], non_zero[:, 1], :2] - center) * factor + center\n",
        "    )\n",
        "    out_of_range = np.any((data[:, :, :2] < 0) | (data[:, :, :2] > 1), axis=2)\n",
        "    data[out_of_range] = 0\n",
        "    return data\n",
        "\n",
        "def shift(data):\n",
        "    x_shift = np.random.uniform(-0.2, 0.2)\n",
        "    y_shift = np.random.uniform(-0.2, 0.2)\n",
        "    non_zero = np.argwhere(np.any(data[:, :, :2] != 0, axis=2))\n",
        "    data[non_zero[:, 0], non_zero[:, 1], 0] += x_shift\n",
        "    data[non_zero[:, 0], non_zero[:, 1], 1] += y_shift\n",
        "    out_of_range = np.any((data[:, :, :2] < 0) | (data[:, :, :2] > 1), axis=2)\n",
        "    data[out_of_range] = 0\n",
        "    return data\n",
        "\n",
        "def mask(data):\n",
        "    frames, landmarks, _ = data.shape\n",
        "    num_hands = int(0.3 * 42)\n",
        "    num_rest = int(0.6 * (landmarks - 42))\n",
        "\n",
        "    mask = np.zeros(landmarks, dtype=bool)\n",
        "    indices = np.concatenate([\n",
        "        np.random.choice(42, num_hands, replace=False),\n",
        "        np.random.choice(landmarks - 42, num_rest, replace=False) + 42\n",
        "    ])\n",
        "    mask[indices] = True\n",
        "    data[:, mask] = 0\n",
        "    return data\n",
        "\n",
        "def hflip(data):\n",
        "    data[:, :, 0] = 1 - data[:, :, 0]\n",
        "    return data\n",
        "\n",
        "def speedup(data):\n",
        "    return data[::2]"
      ],
      "metadata": {
        "execution": {
          "iopub.status.busy": "2023-12-13T23:22:46.804525Z",
          "iopub.execute_input": "2023-12-13T23:22:46.805198Z",
          "iopub.status.idle": "2023-12-13T23:22:46.817582Z",
          "shell.execute_reply.started": "2023-12-13T23:22:46.805166Z",
          "shell.execute_reply": "2023-12-13T23:22:46.816472Z"
        },
        "trusted": true,
        "id": "G_gP-7QW6MiR"
      },
      "execution_count": null,
      "outputs": []
    },
    {
      "cell_type": "markdown",
      "source": [
        "<h3> Apply Augmentations"
      ],
      "metadata": {
        "id": "WHyfpRbU6MiR"
      }
    },
    {
      "cell_type": "code",
      "source": [
        "def apply_augmentations(data):\n",
        "    aug_functions = [rotate_x, rotate_y, rotate_z, zoom, shift, mask, hflip, speedup]\n",
        "    np.random.shuffle(aug_functions)\n",
        "    counter = 0\n",
        "    for fun in aug_functions:\n",
        "        if np.random.rand() < 0.5:\n",
        "            data = fun(data)\n",
        "            counter += 1\n",
        "\n",
        "    if counter == 0:\n",
        "        data = apply_augmentations(data)\n",
        "\n",
        "    return data"
      ],
      "metadata": {
        "execution": {
          "iopub.status.busy": "2023-12-13T23:22:48.298359Z",
          "iopub.execute_input": "2023-12-13T23:22:48.298775Z",
          "iopub.status.idle": "2023-12-13T23:22:48.305364Z",
          "shell.execute_reply.started": "2023-12-13T23:22:48.298739Z",
          "shell.execute_reply": "2023-12-13T23:22:48.304312Z"
        },
        "trusted": true,
        "id": "4St-r7XF6MiS"
      },
      "execution_count": null,
      "outputs": []
    },
    {
      "cell_type": "code",
      "source": [
        "def augment(X, Y, num=None):\n",
        "    X_aug = X.copy()\n",
        "    Y_aug = Y.copy()\n",
        "\n",
        "    if num == None:\n",
        "        for i in tqdm(range(len(Y)), ncols=100):\n",
        "            num_aug = np.random.choice([1, 2, 3])\n",
        "            for n in range(num_aug):\n",
        "                X_aug.append(apply_augmentations(X[i].copy()))\n",
        "                Y_aug.append(Y[i])\n",
        "    elif num > 0:\n",
        "        for i in tqdm(range(len(Y)), ncols=100):\n",
        "            for n in range(num):\n",
        "                X_aug.append(apply_augmentations(X[i].copy()))\n",
        "                Y_aug.append(Y[i])\n",
        "\n",
        "    return X_aug, Y_aug"
      ],
      "metadata": {
        "execution": {
          "iopub.status.busy": "2023-12-13T23:22:49.166253Z",
          "iopub.execute_input": "2023-12-13T23:22:49.167134Z",
          "iopub.status.idle": "2023-12-13T23:22:49.174277Z",
          "shell.execute_reply.started": "2023-12-13T23:22:49.167098Z",
          "shell.execute_reply": "2023-12-13T23:22:49.173354Z"
        },
        "trusted": true,
        "id": "TNTD7Aet6MiS"
      },
      "execution_count": null,
      "outputs": []
    },
    {
      "cell_type": "code",
      "source": [
        "X_train, Y_train = augment(X_train, Y_train, num=1)"
      ],
      "metadata": {
        "execution": {
          "iopub.status.busy": "2023-12-13T23:22:51.204501Z",
          "iopub.execute_input": "2023-12-13T23:22:51.204942Z",
          "iopub.status.idle": "2023-12-13T23:23:19.971902Z",
          "shell.execute_reply.started": "2023-12-13T23:22:51.204909Z",
          "shell.execute_reply": "2023-12-13T23:23:19.970903Z"
        },
        "trusted": true,
        "id": "u-Ax_htw6MiS"
      },
      "execution_count": null,
      "outputs": []
    },
    {
      "cell_type": "code",
      "source": [
        "len(X_train), len(X_train[0]), len(X_train[0][0]), len(X_train[0][0][0])"
      ],
      "metadata": {
        "execution": {
          "iopub.status.busy": "2023-12-13T23:23:22.642375Z",
          "iopub.execute_input": "2023-12-13T23:23:22.643509Z",
          "iopub.status.idle": "2023-12-13T23:23:22.649908Z",
          "shell.execute_reply.started": "2023-12-13T23:23:22.643473Z",
          "shell.execute_reply": "2023-12-13T23:23:22.648989Z"
        },
        "trusted": true,
        "id": "Qc7QZcRx6MiS"
      },
      "execution_count": null,
      "outputs": []
    },
    {
      "cell_type": "code",
      "source": [
        "# free space\n",
        "gc.collect()"
      ],
      "metadata": {
        "execution": {
          "iopub.status.busy": "2023-12-13T23:23:27.939981Z",
          "iopub.execute_input": "2023-12-13T23:23:27.940348Z",
          "iopub.status.idle": "2023-12-13T23:23:28.140778Z",
          "shell.execute_reply.started": "2023-12-13T23:23:27.940317Z",
          "shell.execute_reply": "2023-12-13T23:23:28.139687Z"
        },
        "trusted": true,
        "id": "gS4VyNI06MiS"
      },
      "execution_count": null,
      "outputs": []
    },
    {
      "cell_type": "markdown",
      "source": [
        "<h3> Data Permutation"
      ],
      "metadata": {
        "id": "QVgBD-0N6MiT"
      }
    },
    {
      "cell_type": "code",
      "source": [
        "permutation_train = list(range(len(Y_train)))\n",
        "np.random.shuffle(permutation_train)\n",
        "X_train = [X_train[i] for i in permutation_train]\n",
        "Y_train = [Y_train[i] for i in permutation_train]\n",
        "\n",
        "permutation_val = list(range(len(Y_val)))\n",
        "np.random.shuffle(permutation_val)\n",
        "X_val = [X_val[i] for i in permutation_val]\n",
        "Y_val = [Y_val[i] for i in permutation_val]\n",
        "\n",
        "permutation_test = list(range(len(Y_test)))\n",
        "np.random.shuffle(permutation_test)\n",
        "X_test = [X_test[i] for i in permutation_test]\n",
        "Y_test = [Y_test[i] for i in permutation_test]"
      ],
      "metadata": {
        "execution": {
          "iopub.status.busy": "2023-12-13T23:23:31.399804Z",
          "iopub.execute_input": "2023-12-13T23:23:31.400184Z",
          "iopub.status.idle": "2023-12-13T23:23:31.412195Z",
          "shell.execute_reply.started": "2023-12-13T23:23:31.400152Z",
          "shell.execute_reply": "2023-12-13T23:23:31.411258Z"
        },
        "trusted": true,
        "id": "2fUBY5-c6MiT"
      },
      "execution_count": null,
      "outputs": []
    },
    {
      "cell_type": "markdown",
      "source": [
        "<h3> Test Augmentation (Not necessary when training)"
      ],
      "metadata": {
        "id": "Xn7CdyxI6MiT"
      }
    },
    {
      "cell_type": "code",
      "source": [
        "frame_landmarks = np.expand_dims(frame_landmarks, axis=0)"
      ],
      "metadata": {
        "execution": {
          "iopub.status.busy": "2023-12-12T17:48:36.952891Z",
          "iopub.execute_input": "2023-12-12T17:48:36.953285Z",
          "iopub.status.idle": "2023-12-12T17:48:36.95796Z",
          "shell.execute_reply.started": "2023-12-12T17:48:36.953255Z",
          "shell.execute_reply": "2023-12-12T17:48:36.957002Z"
        },
        "trusted": true,
        "id": "KQR6K7-z6MiU"
      },
      "execution_count": null,
      "outputs": []
    },
    {
      "cell_type": "code",
      "source": [
        "frame_landmarks.shape"
      ],
      "metadata": {
        "execution": {
          "iopub.status.busy": "2023-12-12T17:48:37.184391Z",
          "iopub.execute_input": "2023-12-12T17:48:37.184945Z",
          "iopub.status.idle": "2023-12-12T17:48:37.19069Z",
          "shell.execute_reply.started": "2023-12-12T17:48:37.184918Z",
          "shell.execute_reply": "2023-12-12T17:48:37.189745Z"
        },
        "trusted": true,
        "id": "lch4K7T36MiU"
      },
      "execution_count": null,
      "outputs": []
    },
    {
      "cell_type": "code",
      "source": [
        "fig, axs = plt.subplots(1, 2, figsize=(12, 6))\n",
        "img = np.zeros((img.shape[0], img.shape[1], 3), dtype=np.uint8)\n",
        "\n",
        "for landmark in frame_landmarks[0]:\n",
        "    x = int(landmark[0] * img.shape[1])\n",
        "    y = int(landmark[1] * img.shape[0])\n",
        "    cv2.circle(img, (x, y), 10, (0, 255, 0), -1)\n",
        "\n",
        "axs[0].set_title('Original Image')\n",
        "axs[0].imshow(img[:, :, ::-1])\n",
        "axs[0].axis('off')\n",
        "\n",
        "augmented_landmarks = apply_augmentations(frame_landmarks.copy())\n",
        "img = np.zeros((img.shape[0], img.shape[1], 3), dtype=np.uint8)\n",
        "\n",
        "for landmark in augmented_landmarks[0]:\n",
        "    x = int(landmark[0] * img.shape[1])\n",
        "    y = int(landmark[1] * img.shape[0])\n",
        "    cv2.circle(img, (x, y), 10, (0, 255, 0), -1)\n",
        "\n",
        "axs[1].set_title('Augmented Image')\n",
        "axs[1].imshow(img[:, :, ::-1])\n",
        "axs[1].axis('off')\n",
        "\n",
        "plt.tight_layout()\n",
        "plt.show()"
      ],
      "metadata": {
        "execution": {
          "iopub.status.busy": "2023-12-12T17:48:37.652657Z",
          "iopub.execute_input": "2023-12-12T17:48:37.653504Z",
          "iopub.status.idle": "2023-12-12T17:48:43.276061Z",
          "shell.execute_reply.started": "2023-12-12T17:48:37.653474Z",
          "shell.execute_reply": "2023-12-12T17:48:43.275161Z"
        },
        "trusted": true,
        "id": "-YmPzptM6MiU"
      },
      "execution_count": null,
      "outputs": []
    },
    {
      "cell_type": "markdown",
      "source": [
        "---"
      ],
      "metadata": {
        "id": "oTd1OomM6MiU"
      }
    },
    {
      "cell_type": "markdown",
      "source": [
        "<div id=\"Data_Preprocessing\">\n",
        "    \n",
        "# **Data Preprocessing**"
      ],
      "metadata": {
        "id": "HUxV9UbS6MiU"
      }
    },
    {
      "cell_type": "markdown",
      "source": [
        "<h3>\n",
        "    \n",
        "**Method 1:** Sequencing"
      ],
      "metadata": {
        "id": "Aktm0EJ76MiU"
      }
    },
    {
      "cell_type": "code",
      "source": [
        "def sequences(X, Y, length=30, step=1, pad=0):\n",
        "    X_sequences = []\n",
        "    Y_sequences = []\n",
        "\n",
        "    for inputs, label in zip(X, Y):\n",
        "        num = inputs.shape[0]\n",
        "\n",
        "        if num < length:\n",
        "            padding = length - num\n",
        "            inputs = np.pad(\n",
        "            inputs, ((0, padding), (0, 0), (0, 0)),\n",
        "            mode='constant', constant_values=pad\n",
        "            )\n",
        "            num = length\n",
        "\n",
        "        for start in range(0, num - length + 1, step):\n",
        "            end = start + length\n",
        "            sequence = inputs[start:end]\n",
        "            X_sequences.append(sequence)\n",
        "            Y_sequences.append(label)\n",
        "\n",
        "    X_sequences = np.array(X_sequences)\n",
        "    Y_sequences = np.array(Y_sequences)\n",
        "    return X_sequences, Y_sequences"
      ],
      "metadata": {
        "execution": {
          "iopub.status.busy": "2023-12-13T21:00:19.632574Z",
          "iopub.execute_input": "2023-12-13T21:00:19.633007Z",
          "iopub.status.idle": "2023-12-13T21:00:19.643036Z",
          "shell.execute_reply.started": "2023-12-13T21:00:19.632974Z",
          "shell.execute_reply": "2023-12-13T21:00:19.641766Z"
        },
        "trusted": true,
        "id": "9QI8HpQq6MiU"
      },
      "execution_count": null,
      "outputs": []
    },
    {
      "cell_type": "code",
      "source": [
        "X_train, Y_train = sequences(X_train, Y_train, length=60, step=20, pad=-100)\n",
        "X_val, Y_val = sequences(X_val, Y_val, length=60, step=20, pad=-100)\n",
        "X_test, Y_test = sequences(X_test, Y_test, length=60, step=20, pad=-100)"
      ],
      "metadata": {
        "execution": {
          "iopub.status.busy": "2023-12-13T21:00:23.201529Z",
          "iopub.execute_input": "2023-12-13T21:00:23.201956Z",
          "iopub.status.idle": "2023-12-13T21:00:26.246274Z",
          "shell.execute_reply.started": "2023-12-13T21:00:23.201921Z",
          "shell.execute_reply": "2023-12-13T21:00:26.245059Z"
        },
        "trusted": true,
        "id": "xBj2g-j56MiV"
      },
      "execution_count": null,
      "outputs": []
    },
    {
      "cell_type": "code",
      "source": [
        "X_train.shape, X_val.shape, X_test.shape"
      ],
      "metadata": {
        "execution": {
          "iopub.status.busy": "2023-12-13T21:00:26.248916Z",
          "iopub.execute_input": "2023-12-13T21:00:26.249663Z",
          "iopub.status.idle": "2023-12-13T21:00:26.258256Z",
          "shell.execute_reply.started": "2023-12-13T21:00:26.249618Z",
          "shell.execute_reply": "2023-12-13T21:00:26.257086Z"
        },
        "trusted": true,
        "id": "r5NHtwZv6MiV"
      },
      "execution_count": null,
      "outputs": []
    },
    {
      "cell_type": "markdown",
      "source": [
        "<h3>\n",
        "    \n",
        "**Method 2:** Padding"
      ],
      "metadata": {
        "id": "_4DW9OlC6MiV"
      }
    },
    {
      "cell_type": "code",
      "source": [
        "def padding(X, Y, length=None, pad=0):\n",
        "    if length is None:\n",
        "        length = max(len(x) for x in X)\n",
        "\n",
        "    X_padded = []\n",
        "    for x in X:\n",
        "        if len(x) > length:\n",
        "            X_padded.append(x[:length]) #truncate\n",
        "        else:\n",
        "            pad_length = length - len(x)\n",
        "            X_padded.append(np.pad(\n",
        "                x, ((0, pad_length), (0, 0), (0, 0)),\n",
        "                mode='constant', constant_values=pad\n",
        "            ))\n",
        "\n",
        "    X_padded = np.array(X_padded)\n",
        "#     Y = np.array(Y)\n",
        "    return X_padded, Y"
      ],
      "metadata": {
        "execution": {
          "iopub.status.busy": "2023-12-13T23:23:46.683057Z",
          "iopub.execute_input": "2023-12-13T23:23:46.683853Z",
          "iopub.status.idle": "2023-12-13T23:23:46.690995Z",
          "shell.execute_reply.started": "2023-12-13T23:23:46.683816Z",
          "shell.execute_reply": "2023-12-13T23:23:46.69001Z"
        },
        "trusted": true,
        "id": "6lGAp86M6MiV"
      },
      "execution_count": null,
      "outputs": []
    },
    {
      "cell_type": "code",
      "source": [
        "X_train, Y_train = padding(X_train, Y_train, length=200, pad=-100)\n",
        "X_val, Y_val = padding(X_val, Y_val, length=200, pad=-100)\n",
        "X_test, Y_test = padding(X_test, Y_test, length=200, pad=-100)"
      ],
      "metadata": {
        "execution": {
          "iopub.status.busy": "2023-12-13T23:23:51.302256Z",
          "iopub.execute_input": "2023-12-13T23:23:51.302948Z",
          "iopub.status.idle": "2023-12-13T23:23:58.343286Z",
          "shell.execute_reply.started": "2023-12-13T23:23:51.302914Z",
          "shell.execute_reply": "2023-12-13T23:23:58.342252Z"
        },
        "trusted": true,
        "id": "FvQLJReg6MiV"
      },
      "execution_count": null,
      "outputs": []
    },
    {
      "cell_type": "code",
      "source": [
        "X_train.shape, X_val.shape, X_test.shape"
      ],
      "metadata": {
        "execution": {
          "iopub.status.busy": "2023-12-13T23:24:04.363843Z",
          "iopub.execute_input": "2023-12-13T23:24:04.364463Z",
          "iopub.status.idle": "2023-12-13T23:24:04.370807Z",
          "shell.execute_reply.started": "2023-12-13T23:24:04.36443Z",
          "shell.execute_reply": "2023-12-13T23:24:04.369815Z"
        },
        "trusted": true,
        "id": "gwiOfWW_6MiW"
      },
      "execution_count": null,
      "outputs": []
    },
    {
      "cell_type": "markdown",
      "source": [
        "<h3>\n",
        "    \n",
        "**Method 3:** Skipping & Cloning"
      ],
      "metadata": {
        "id": "Fi-rO_qy6MiW"
      }
    },
    {
      "cell_type": "code",
      "source": [
        "def skipping(landmarks, desired_frames,mode='floor'):\n",
        "    frames_num = landmarks.shape[0]\n",
        "    if mode == 'floor':\n",
        "        skip_factor = math.floor(frames_num / desired_frames)\n",
        "    elif mode == 'ceil':\n",
        "        skip_factor = math.ceil(frames_num / desired_frames)\n",
        "    skipped_landmarks = []\n",
        "\n",
        "    for i in range(0, frames_num, skip_factor):\n",
        "        skipped_landmarks.append(landmarks[i])\n",
        "        if len(skipped_landmarks)==desired_frames:\n",
        "            break\n",
        "\n",
        "    return np.array(skipped_landmarks)\n",
        "\n",
        "# Test\n",
        "skip_test = np.zeros((90, 180, 3))\n",
        "result_1 = skipping(skip_test, 60)\n",
        "result_2 = skipping(skip_test, 60,'ceil')\n",
        "print(result_1.shape)\n",
        "print(result_2.shape)"
      ],
      "metadata": {
        "id": "9c2-ay_e6MiW"
      },
      "execution_count": null,
      "outputs": []
    },
    {
      "cell_type": "code",
      "source": [
        "def cloning(landmarks, desired_frames):\n",
        "\n",
        "    frames_num = landmarks.shape[0]\n",
        "    repeat_factor = math.ceil(desired_frames / frames_num)\n",
        "\n",
        "    cloned_list = np.repeat(landmarks, repeat_factor, axis=0)\n",
        "    cloned_list = cloned_list[:desired_frames]\n",
        "    return cloned_list\n",
        "\n",
        "# Test\n",
        "clone_test = np.random.random((29, 180, 3))\n",
        "result = cloning(clone_test, 60)\n",
        "print(result.shape)"
      ],
      "metadata": {
        "id": "KWIkSeST6MiW"
      },
      "execution_count": null,
      "outputs": []
    },
    {
      "cell_type": "code",
      "source": [
        "def clone_skip(landmarks_array,desired_frames):\n",
        "    reshaped_landmarks = []\n",
        "    for landmarks in landmarks_array:\n",
        "        frames_number = landmarks.shape[0]\n",
        "\n",
        "        if frames_number == desired_frames:\n",
        "            reshaped_landmarks.append(landmarks)\n",
        "        elif frames_number < desired_frames:\n",
        "            reshaped_landmarks.append(cloning(landmarks,desired_frames))\n",
        "        elif frames_number > desired_frames:\n",
        "            reshaped_landmarks.append(skipping(landmarks,desired_frames))\n",
        "    return np.array(reshaped_landmarks)"
      ],
      "metadata": {
        "id": "tGN3_NYM6MiX"
      },
      "execution_count": null,
      "outputs": []
    },
    {
      "cell_type": "markdown",
      "source": [
        "---"
      ],
      "metadata": {
        "id": "e62CBWPM6MiX"
      }
    },
    {
      "cell_type": "markdown",
      "source": [
        "<div id=\"Label_Encoding\">\n",
        "    \n",
        "# **Label Encoding**"
      ],
      "metadata": {
        "id": "bRrDSWgH6MiX"
      }
    },
    {
      "cell_type": "code",
      "source": [
        "# label_encoder = LabelEncoder()\n",
        "\n",
        "# Y_train = label_encoder.fit_transform(Y_train)\n",
        "# Y_val = label_encoder.fit_transform(Y_val)\n",
        "# Y_test = label_encoder.fit_transform(Y_test)"
      ],
      "metadata": {
        "execution": {
          "iopub.status.busy": "2023-12-13T21:00:30.843414Z",
          "iopub.execute_input": "2023-12-13T21:00:30.843884Z",
          "iopub.status.idle": "2023-12-13T21:00:30.872236Z",
          "shell.execute_reply.started": "2023-12-13T21:00:30.843847Z",
          "shell.execute_reply": "2023-12-13T21:00:30.871084Z"
        },
        "trusted": true,
        "id": "dbMJE1s76MiX"
      },
      "execution_count": null,
      "outputs": []
    },
    {
      "cell_type": "code",
      "source": [
        "Y_train = np.array([labels_dict[label] for label in Y_train])\n",
        "Y_val = np.array([labels_dict[label] for label in Y_val])\n",
        "Y_test = np.array([labels_dict[label] for label in Y_test])"
      ],
      "metadata": {
        "execution": {
          "iopub.status.busy": "2023-12-13T23:24:14.519851Z",
          "iopub.execute_input": "2023-12-13T23:24:14.520226Z",
          "iopub.status.idle": "2023-12-13T23:24:17.689105Z",
          "shell.execute_reply.started": "2023-12-13T23:24:14.520197Z",
          "shell.execute_reply": "2023-12-13T23:24:17.687952Z"
        },
        "trusted": true,
        "id": "4rpHq_xa6MiX"
      },
      "execution_count": null,
      "outputs": []
    },
    {
      "cell_type": "code",
      "source": [
        "Y_train.shape"
      ],
      "metadata": {
        "execution": {
          "iopub.status.busy": "2023-12-13T23:24:27.004767Z",
          "iopub.execute_input": "2023-12-13T23:24:27.005151Z",
          "iopub.status.idle": "2023-12-13T23:24:27.011495Z",
          "shell.execute_reply.started": "2023-12-13T23:24:27.005122Z",
          "shell.execute_reply": "2023-12-13T23:24:27.010674Z"
        },
        "trusted": true,
        "id": "cyddQ4l46MiY"
      },
      "execution_count": null,
      "outputs": []
    },
    {
      "cell_type": "code",
      "source": [
        "# free space\n",
        "gc.collect()"
      ],
      "metadata": {
        "execution": {
          "iopub.status.busy": "2023-12-13T23:24:37.352719Z",
          "iopub.execute_input": "2023-12-13T23:24:37.35311Z",
          "iopub.status.idle": "2023-12-13T23:24:37.592295Z",
          "shell.execute_reply.started": "2023-12-13T23:24:37.353077Z",
          "shell.execute_reply": "2023-12-13T23:24:37.591209Z"
        },
        "trusted": true,
        "id": "vC73TP--6MiY"
      },
      "execution_count": null,
      "outputs": []
    },
    {
      "cell_type": "markdown",
      "source": [
        "---"
      ],
      "metadata": {
        "id": "lwHAa5hh6MiY"
      }
    },
    {
      "cell_type": "markdown",
      "source": [
        "<div id=\"Models\">\n",
        "    \n",
        "# **Models**"
      ],
      "metadata": {
        "id": "lW4HGz2i6MiY"
      }
    },
    {
      "cell_type": "markdown",
      "source": [
        "<h2>Hady's Model"
      ],
      "metadata": {
        "id": "ZeVY7QRj6MiY"
      }
    },
    {
      "cell_type": "code",
      "source": [],
      "metadata": {
        "id": "3gtSyMBm6MiY"
      },
      "execution_count": null,
      "outputs": []
    },
    {
      "cell_type": "markdown",
      "source": [
        "<h2>Kamel's Model"
      ],
      "metadata": {
        "id": "wDRhKUDd6MiZ"
      }
    },
    {
      "cell_type": "code",
      "source": [
        "gc.collect()\n",
        "tf.keras.backend.clear_session()\n",
        "physical_devices = tf.config.list_physical_devices('GPU')\n",
        "for device in physical_devices:\n",
        "    tf.config.experimental.set_memory_growth(device, True)\n",
        "physical_devices"
      ],
      "metadata": {
        "execution": {
          "iopub.status.busy": "2023-12-13T23:32:34.010125Z",
          "iopub.execute_input": "2023-12-13T23:32:34.010548Z",
          "iopub.status.idle": "2023-12-13T23:32:34.344693Z",
          "shell.execute_reply.started": "2023-12-13T23:32:34.010517Z",
          "shell.execute_reply": "2023-12-13T23:32:34.34384Z"
        },
        "trusted": true,
        "id": "7iYfMGHC6MiZ"
      },
      "execution_count": null,
      "outputs": []
    },
    {
      "cell_type": "code",
      "source": [
        "model = tf.keras.Sequential([\n",
        "    tf.keras.layers.Masking(mask_value=-100, input_shape=(200, 180, 3)),\n",
        "    tf.keras.layers.Flatten(),\n",
        "\n",
        "    tf.keras.layers.Dense(512, activation='relu'),\n",
        "    tf.keras.layers.BatchNormalization(),\n",
        "    tf.keras.layers.Dropout(rate=0.3),\n",
        "\n",
        "    tf.keras.layers.Dense(512, activation='relu'),\n",
        "    tf.keras.layers.BatchNormalization(),\n",
        "    tf.keras.layers.Dropout(rate=0.3),\n",
        "\n",
        "    tf.keras.layers.Dense(512, activation='relu'),\n",
        "    tf.keras.layers.BatchNormalization(),\n",
        "    tf.keras.layers.Dropout(rate=0.5),\n",
        "\n",
        "    tf.keras.layers.Dense(512, activation='relu'),\n",
        "    tf.keras.layers.BatchNormalization(),\n",
        "    tf.keras.layers.Dropout(rate=0.5),\n",
        "\n",
        "    tf.keras.layers.Dense(300, activation='linear')\n",
        "])"
      ],
      "metadata": {
        "execution": {
          "iopub.status.busy": "2023-12-13T23:32:34.346062Z",
          "iopub.execute_input": "2023-12-13T23:32:34.34637Z",
          "iopub.status.idle": "2023-12-13T23:32:34.514596Z",
          "shell.execute_reply.started": "2023-12-13T23:32:34.346344Z",
          "shell.execute_reply": "2023-12-13T23:32:34.513788Z"
        },
        "trusted": true,
        "id": "aCaREnDS6MiZ"
      },
      "execution_count": null,
      "outputs": []
    },
    {
      "cell_type": "code",
      "source": [
        "checkpoint_filepath = '/kaggle/working/Kamel_Checkpoints/'\n",
        "os.makedirs(checkpoint_filepath, exist_ok=True)\n",
        "\n",
        "model_checkpoint = tf.keras.callbacks.ModelCheckpoint(\n",
        "    filepath=os.path.join(checkpoint_filepath, 'model_{epoch:02d}.h5'),\n",
        "    save_weights_only=True,\n",
        "    save_best_only=True,\n",
        "    monitor='val_accuracy',\n",
        "    mode='max',\n",
        ")\n",
        "\n",
        "lr_scheduler = tf.keras.optimizers.schedules.ExponentialDecay(\n",
        "    initial_learning_rate=0.001,\n",
        "    decay_steps=1000,\n",
        "    decay_rate=0.9\n",
        ")\n",
        "\n",
        "early_stopping = tf.keras.callbacks.EarlyStopping(\n",
        "    monitor='val_accuracy',\n",
        "    patience=50,\n",
        "    restore_best_weights=True\n",
        ")\n",
        "\n",
        "model.compile(\n",
        "    loss=tf.keras.losses.cosine_similarity,\n",
        "    optimizer=tf.keras.optimizers.Adam(learning_rate=lr_scheduler),\n",
        "    metrics=['accuracy']\n",
        ")"
      ],
      "metadata": {
        "execution": {
          "iopub.status.busy": "2023-12-13T23:32:34.516289Z",
          "iopub.execute_input": "2023-12-13T23:32:34.516876Z",
          "iopub.status.idle": "2023-12-13T23:32:34.537662Z",
          "shell.execute_reply.started": "2023-12-13T23:32:34.516841Z",
          "shell.execute_reply": "2023-12-13T23:32:34.53681Z"
        },
        "trusted": true,
        "id": "swh10RJk6MiZ"
      },
      "execution_count": null,
      "outputs": []
    },
    {
      "cell_type": "code",
      "source": [
        "hist = model.fit(\n",
        "    X_train, Y_train,\n",
        "    validation_data=(X_val, Y_val),\n",
        "    epochs=1000,\n",
        "    batch_size=128,\n",
        "    callbacks=[model_checkpoint, early_stopping]\n",
        ")"
      ],
      "metadata": {
        "scrolled": true,
        "execution": {
          "iopub.status.busy": "2023-12-13T23:32:35.141004Z",
          "iopub.execute_input": "2023-12-13T23:32:35.141747Z",
          "iopub.status.idle": "2023-12-13T23:35:40.740609Z",
          "shell.execute_reply.started": "2023-12-13T23:32:35.141711Z",
          "shell.execute_reply": "2023-12-13T23:35:40.73956Z"
        },
        "trusted": true,
        "id": "Yr3DDWsH6Mia"
      },
      "execution_count": null,
      "outputs": []
    },
    {
      "cell_type": "code",
      "source": [
        "# epoch = 90\n",
        "# model.load_weights(f'/kaggle/working/Kamel_Checkpoints/model_{epoch}.h5')\n",
        "test_loss, test_accuracy = model.evaluate(X_test, Y_test)"
      ],
      "metadata": {
        "execution": {
          "iopub.status.busy": "2023-12-13T23:35:45.923723Z",
          "iopub.execute_input": "2023-12-13T23:35:45.924428Z",
          "iopub.status.idle": "2023-12-13T23:35:46.902669Z",
          "shell.execute_reply.started": "2023-12-13T23:35:45.924394Z",
          "shell.execute_reply": "2023-12-13T23:35:46.901903Z"
        },
        "trusted": true,
        "id": "wclyxKrU6Mia"
      },
      "execution_count": null,
      "outputs": []
    },
    {
      "cell_type": "code",
      "source": [
        "import shutil\n",
        "shutil.rmtree('/kaggle/working/Kamel_Checkpoints')"
      ],
      "metadata": {
        "execution": {
          "iopub.status.busy": "2023-12-13T23:36:01.886715Z",
          "iopub.execute_input": "2023-12-13T23:36:01.8871Z",
          "iopub.status.idle": "2023-12-13T23:36:02.30696Z",
          "shell.execute_reply.started": "2023-12-13T23:36:01.88707Z",
          "shell.execute_reply": "2023-12-13T23:36:02.305187Z"
        },
        "trusted": true,
        "id": "rectrSq86Mia"
      },
      "execution_count": null,
      "outputs": []
    },
    {
      "cell_type": "code",
      "source": [
        "train_loss = hist.history['loss']\n",
        "val_loss = hist.history['val_loss']\n",
        "train_acc = hist.history['accuracy']\n",
        "val_acc = hist.history['val_accuracy']\n",
        "\n",
        "# Plotting loss\n",
        "plt.figure(figsize=(10, 5))\n",
        "plt.subplot(1, 2, 1)\n",
        "plt.plot(train_loss, 'g', label='Training loss')\n",
        "plt.plot(val_loss, 'b', label='Validation loss')\n",
        "plt.title('Training and Validation Loss')\n",
        "plt.xlabel('Epochs')\n",
        "plt.ylabel('Loss')\n",
        "plt.legend()\n",
        "\n",
        "# Plotting accuracy\n",
        "plt.subplot(1, 2, 2)\n",
        "plt.plot(train_acc, 'g', label='Training accuracy')\n",
        "plt.plot(val_acc, 'b', label='Validation accuracy')\n",
        "plt.title('Training and Validation Accuracy')\n",
        "plt.xlabel('Epochs')\n",
        "plt.ylabel('Accuracy')\n",
        "plt.legend()\n",
        "\n",
        "plt.tight_layout()\n",
        "plt.show()"
      ],
      "metadata": {
        "execution": {
          "iopub.status.busy": "2023-12-13T23:36:04.165386Z",
          "iopub.execute_input": "2023-12-13T23:36:04.165773Z",
          "iopub.status.idle": "2023-12-13T23:36:04.864805Z",
          "shell.execute_reply.started": "2023-12-13T23:36:04.165741Z",
          "shell.execute_reply": "2023-12-13T23:36:04.863834Z"
        },
        "trusted": true,
        "id": "cfpZSAqo6Mia"
      },
      "execution_count": null,
      "outputs": []
    },
    {
      "cell_type": "code",
      "source": [
        "tf.keras.utils.plot_model(model, to_file='model_plot.png', show_shapes=True, show_layer_names=True)\n",
        "img = plt.imread('model_plot.png')\n",
        "plt.figure(figsize=(40, 30))\n",
        "plt.imshow(img)\n",
        "plt.axis('off')\n",
        "plt.show()"
      ],
      "metadata": {
        "execution": {
          "iopub.status.busy": "2023-12-13T23:36:32.536758Z",
          "iopub.execute_input": "2023-12-13T23:36:32.537873Z",
          "iopub.status.idle": "2023-12-13T23:36:33.446981Z",
          "shell.execute_reply.started": "2023-12-13T23:36:32.537827Z",
          "shell.execute_reply": "2023-12-13T23:36:33.446021Z"
        },
        "trusted": true,
        "id": "w9nxgT1P6Mia"
      },
      "execution_count": null,
      "outputs": []
    },
    {
      "cell_type": "code",
      "source": [
        "name = '12-14'\n",
        "model_filepath = '/kaggle/working/Kamel_Models'\n",
        "os.makedirs(model_filepath, exist_ok=True)\n",
        "\n",
        "model.save(model_filepath + f'/{name}')\n",
        "model.save(model_filepath + f'/{name}.h5')\n",
        "\n",
        "converter = tf.lite.TFLiteConverter.from_saved_model(model_filepath + f'/{name}')\n",
        "converter.target_spec.supported_ops = [\n",
        "  tf.lite.OpsSet.TFLITE_BUILTINS,\n",
        "  tf.lite.OpsSet.SELECT_TF_OPS\n",
        "]\n",
        "tflite_model = converter.convert()\n",
        "with open(model_filepath + f'/{name}.tflite', 'wb') as f:\n",
        "    f.write(tflite_model)"
      ],
      "metadata": {
        "execution": {
          "iopub.status.busy": "2023-12-13T23:36:41.251764Z",
          "iopub.execute_input": "2023-12-13T23:36:41.252609Z"
        },
        "trusted": true,
        "id": "KRfs9zYe6Mia"
      },
      "execution_count": null,
      "outputs": []
    },
    {
      "cell_type": "markdown",
      "source": [
        "<h2>Nour's Model"
      ],
      "metadata": {
        "id": "xGhriqzc6Mib"
      }
    },
    {
      "cell_type": "code",
      "source": [],
      "metadata": {
        "id": "4MaEGDRQ6Mib"
      },
      "execution_count": null,
      "outputs": []
    }
  ]
}